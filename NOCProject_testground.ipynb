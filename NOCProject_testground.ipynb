{
 "cells": [
  {
   "cell_type": "code",
   "execution_count": 9,
   "metadata": {},
   "outputs": [],
   "source": [
    "import gym\n",
    "import numpy as np"
   ]
  },
  {
   "cell_type": "code",
   "execution_count": 2,
   "metadata": {},
   "outputs": [],
   "source": [
    "env = gym.make('Pendulum-v0')"
   ]
  },
  {
   "cell_type": "code",
   "execution_count": 7,
   "metadata": {},
   "outputs": [
    {
     "name": "stdout",
     "output_type": "stream",
     "text": [
      "action_space: Box(1,) ,obs_space: Box(3,)\n",
      "action_space limits: [2.] ,[-2.]\n",
      "observation_space limits: [1. 1. 8.] ,[-1. -1. -8.]\n"
     ]
    }
   ],
   "source": [
    "print(f'action_space: {env.action_space} ,obs_space: {env.observation_space}')\n",
    "print(f'action_space limits: {env.action_space.high} ,{env.action_space.low}')\n",
    "print(f'observation_space limits: {env.observation_space.high} ,{env.observation_space.low}')"
   ]
  },
  {
   "cell_type": "code",
   "execution_count": 8,
   "metadata": {},
   "outputs": [],
   "source": [
    "def angle_normalize(x):\n",
    "    return (((x+np.pi) % (2*np.pi)) - np.pi)"
   ]
  },
  {
   "cell_type": "code",
   "execution_count": 10,
   "metadata": {},
   "outputs": [],
   "source": [
    "def degree_to_rad(degrees):\n",
    "    max_angle = 360\n",
    "    return (2*np.pi*degrees)/max_angle"
   ]
  },
  {
   "cell_type": "code",
   "execution_count": 13,
   "metadata": {},
   "outputs": [
    {
     "name": "stdout",
     "output_type": "stream",
     "text": [
      "theta1: 0.17453292519943295, theta1_norm: 0.17453292519943275\n"
     ]
    }
   ],
   "source": [
    "theta1 = degree_to_rad(10)\n",
    "theta1_norm = angle_normalize(theta1)\n",
    "print(f'theta1: {theta1}, theta1_norm: {theta1_norm}')"
   ]
  },
  {
   "cell_type": "code",
   "execution_count": null,
   "metadata": {},
   "outputs": [],
   "source": []
  }
 ],
 "metadata": {
  "kernelspec": {
   "display_name": "Python 3",
   "language": "python",
   "name": "python3"
  },
  "language_info": {
   "codemirror_mode": {
    "name": "ipython",
    "version": 3
   },
   "file_extension": ".py",
   "mimetype": "text/x-python",
   "name": "python",
   "nbconvert_exporter": "python",
   "pygments_lexer": "ipython3",
   "version": "3.8.3"
  }
 },
 "nbformat": 4,
 "nbformat_minor": 4
}
